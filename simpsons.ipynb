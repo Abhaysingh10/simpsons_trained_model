{
 "cells": [
  {
   "cell_type": "code",
   "execution_count": 1,
   "id": "71080c3a",
   "metadata": {
    "_cell_guid": "b1076dfc-b9ad-4769-8c92-a6c4dae69d19",
    "_uuid": "8f2839f25d086af736a60e9eeb907d3b93b6e0e5",
    "execution": {
     "iopub.execute_input": "2022-01-26T18:57:50.431888Z",
     "iopub.status.busy": "2022-01-26T18:57:50.430254Z",
     "iopub.status.idle": "2022-01-26T18:58:59.327108Z",
     "shell.execute_reply": "2022-01-26T18:58:59.326467Z",
     "shell.execute_reply.started": "2022-01-26T08:28:38.260441Z"
    },
    "papermill": {
     "duration": 68.915646,
     "end_time": "2022-01-26T18:58:59.327266",
     "exception": false,
     "start_time": "2022-01-26T18:57:50.411620",
     "status": "completed"
    },
    "tags": []
   },
   "outputs": [
    {
     "name": "stdout",
     "output_type": "stream",
     "text": [
      "Collecting caer\r\n",
      "  Downloading caer-2.0.8-py3-none-any.whl (809 kB)\r\n",
      "     |████████████████████████████████| 809 kB 926 kB/s            \r\n",
      "\u001b[?25hCollecting canaro\r\n",
      "  Downloading canaro-1.1.0-py3-none-any.whl (19 kB)\r\n",
      "Collecting mypy\r\n",
      "  Downloading mypy-0.931-cp37-cp37m-manylinux_2_5_x86_64.manylinux1_x86_64.manylinux_2_12_x86_64.manylinux2010_x86_64.whl (14.0 MB)\r\n",
      "     |████████████████████████████████| 14.0 MB 38.3 MB/s            \r\n",
      "\u001b[?25hRequirement already satisfied: numpy in /opt/conda/lib/python3.7/site-packages (from caer) (1.19.5)\r\n",
      "Requirement already satisfied: opencv-contrib-python in /opt/conda/lib/python3.7/site-packages (from caer) (4.5.4.60)\r\n",
      "Requirement already satisfied: typing-extensions in /opt/conda/lib/python3.7/site-packages (from caer) (3.10.0.2)\r\n",
      "Requirement already satisfied: tensorflow in /opt/conda/lib/python3.7/site-packages (from canaro) (2.6.2)\r\n",
      "Requirement already satisfied: typed-ast<2,>=1.4.0 in /opt/conda/lib/python3.7/site-packages (from mypy->caer) (1.5.0)\r\n",
      "Requirement already satisfied: mypy-extensions>=0.4.3 in /opt/conda/lib/python3.7/site-packages (from mypy->caer) (0.4.3)\r\n",
      "Requirement already satisfied: tomli>=1.1.0 in /opt/conda/lib/python3.7/site-packages (from mypy->caer) (1.2.2)\r\n",
      "Requirement already satisfied: keras<2.7,>=2.6.0 in /opt/conda/lib/python3.7/site-packages (from tensorflow->canaro) (2.6.0)\r\n",
      "Requirement already satisfied: clang~=5.0 in /opt/conda/lib/python3.7/site-packages (from tensorflow->canaro) (5.0)\r\n",
      "Requirement already satisfied: termcolor~=1.1.0 in /opt/conda/lib/python3.7/site-packages (from tensorflow->canaro) (1.1.0)\r\n",
      "Requirement already satisfied: tensorflow-estimator<2.7,>=2.6.0 in /opt/conda/lib/python3.7/site-packages (from tensorflow->canaro) (2.6.0)\r\n",
      "Requirement already satisfied: flatbuffers~=1.12.0 in /opt/conda/lib/python3.7/site-packages (from tensorflow->canaro) (1.12)\r\n",
      "Requirement already satisfied: protobuf>=3.9.2 in /opt/conda/lib/python3.7/site-packages (from tensorflow->canaro) (3.19.1)\r\n",
      "Requirement already satisfied: h5py~=3.1.0 in /opt/conda/lib/python3.7/site-packages (from tensorflow->canaro) (3.1.0)\r\n",
      "Requirement already satisfied: grpcio<2.0,>=1.37.0 in /opt/conda/lib/python3.7/site-packages (from tensorflow->canaro) (1.42.0)\r\n",
      "Requirement already satisfied: astunparse~=1.6.3 in /opt/conda/lib/python3.7/site-packages (from tensorflow->canaro) (1.6.3)\r\n",
      "Requirement already satisfied: tensorboard<2.7,>=2.6.0 in /opt/conda/lib/python3.7/site-packages (from tensorflow->canaro) (2.6.0)\r\n",
      "Requirement already satisfied: absl-py~=0.10 in /opt/conda/lib/python3.7/site-packages (from tensorflow->canaro) (0.15.0)\r\n",
      "Requirement already satisfied: opt-einsum~=3.3.0 in /opt/conda/lib/python3.7/site-packages (from tensorflow->canaro) (3.3.0)\r\n",
      "Requirement already satisfied: wheel~=0.35 in /opt/conda/lib/python3.7/site-packages (from tensorflow->canaro) (0.37.0)\r\n",
      "Requirement already satisfied: google-pasta~=0.2 in /opt/conda/lib/python3.7/site-packages (from tensorflow->canaro) (0.2.0)\r\n",
      "Requirement already satisfied: gast==0.4.0 in /opt/conda/lib/python3.7/site-packages (from tensorflow->canaro) (0.4.0)\r\n",
      "Collecting tensorflow\r\n",
      "  Downloading tensorflow-2.7.0-cp37-cp37m-manylinux2010_x86_64.whl (489.6 MB)\r\n",
      "     |████████████████████████████████| 489.6 MB 20 kB/s              \r\n",
      "\u001b[?25hCollecting keras<2.8,>=2.7.0rc0\r\n",
      "  Downloading keras-2.7.0-py2.py3-none-any.whl (1.3 MB)\r\n",
      "     |████████████████████████████████| 1.3 MB 38.7 MB/s            \r\n",
      "\u001b[?25hRequirement already satisfied: six>=1.12.0 in /opt/conda/lib/python3.7/site-packages (from tensorflow->canaro) (1.16.0)\r\n",
      "Collecting tensorflow-estimator<2.8,~=2.7.0rc0\r\n",
      "  Downloading tensorflow_estimator-2.7.0-py2.py3-none-any.whl (463 kB)\r\n",
      "     |████████████████████████████████| 463 kB 43.5 MB/s            \r\n",
      "\u001b[?25hCollecting tensorflow-io-gcs-filesystem>=0.21.0\r\n",
      "  Downloading tensorflow_io_gcs_filesystem-0.23.1-cp37-cp37m-manylinux_2_12_x86_64.manylinux2010_x86_64.whl (2.1 MB)\r\n",
      "     |████████████████████████████████| 2.1 MB 47.5 MB/s            \r\n",
      "\u001b[?25hCollecting libclang>=9.0.1\r\n",
      "  Downloading libclang-12.0.0-2-py2.py3-none-manylinux1_x86_64.whl (13.3 MB)\r\n",
      "     |████████████████████████████████| 13.3 MB 46.3 MB/s            \r\n",
      "\u001b[?25hRequirement already satisfied: keras-preprocessing>=1.1.1 in /opt/conda/lib/python3.7/site-packages (from tensorflow->canaro) (1.1.2)\r\n",
      "Requirement already satisfied: wrapt>=1.11.0 in /opt/conda/lib/python3.7/site-packages (from tensorflow->canaro) (1.13.3)\r\n",
      "Requirement already satisfied: cached-property in /opt/conda/lib/python3.7/site-packages (from h5py~=3.1.0->tensorflow->canaro) (1.5.2)\r\n",
      "Requirement already satisfied: google-auth<2,>=1.6.3 in /opt/conda/lib/python3.7/site-packages (from tensorboard<2.7,>=2.6.0->tensorflow->canaro) (1.35.0)\r\n",
      "Requirement already satisfied: tensorboard-plugin-wit>=1.6.0 in /opt/conda/lib/python3.7/site-packages (from tensorboard<2.7,>=2.6.0->tensorflow->canaro) (1.8.0)\r\n",
      "Requirement already satisfied: requests<3,>=2.21.0 in /opt/conda/lib/python3.7/site-packages (from tensorboard<2.7,>=2.6.0->tensorflow->canaro) (2.25.1)\r\n",
      "Requirement already satisfied: markdown>=2.6.8 in /opt/conda/lib/python3.7/site-packages (from tensorboard<2.7,>=2.6.0->tensorflow->canaro) (3.3.6)\r\n",
      "Requirement already satisfied: setuptools>=41.0.0 in /opt/conda/lib/python3.7/site-packages (from tensorboard<2.7,>=2.6.0->tensorflow->canaro) (59.1.1)\r\n",
      "Requirement already satisfied: tensorboard-data-server<0.7.0,>=0.6.0 in /opt/conda/lib/python3.7/site-packages (from tensorboard<2.7,>=2.6.0->tensorflow->canaro) (0.6.1)\r\n",
      "Requirement already satisfied: werkzeug>=0.11.15 in /opt/conda/lib/python3.7/site-packages (from tensorboard<2.7,>=2.6.0->tensorflow->canaro) (2.0.2)\r\n",
      "Requirement already satisfied: google-auth-oauthlib<0.5,>=0.4.1 in /opt/conda/lib/python3.7/site-packages (from tensorboard<2.7,>=2.6.0->tensorflow->canaro) (0.4.6)\r\n",
      "Requirement already satisfied: rsa<5,>=3.1.4 in /opt/conda/lib/python3.7/site-packages (from google-auth<2,>=1.6.3->tensorboard<2.7,>=2.6.0->tensorflow->canaro) (4.7.2)\r\n",
      "Requirement already satisfied: cachetools<5.0,>=2.0.0 in /opt/conda/lib/python3.7/site-packages (from google-auth<2,>=1.6.3->tensorboard<2.7,>=2.6.0->tensorflow->canaro) (4.2.4)\r\n",
      "Requirement already satisfied: pyasn1-modules>=0.2.1 in /opt/conda/lib/python3.7/site-packages (from google-auth<2,>=1.6.3->tensorboard<2.7,>=2.6.0->tensorflow->canaro) (0.2.7)\r\n",
      "Requirement already satisfied: requests-oauthlib>=0.7.0 in /opt/conda/lib/python3.7/site-packages (from google-auth-oauthlib<0.5,>=0.4.1->tensorboard<2.7,>=2.6.0->tensorflow->canaro) (1.3.0)\r\n",
      "Requirement already satisfied: importlib-metadata>=4.4 in /opt/conda/lib/python3.7/site-packages (from markdown>=2.6.8->tensorboard<2.7,>=2.6.0->tensorflow->canaro) (4.8.2)\r\n",
      "Requirement already satisfied: idna<3,>=2.5 in /opt/conda/lib/python3.7/site-packages (from requests<3,>=2.21.0->tensorboard<2.7,>=2.6.0->tensorflow->canaro) (2.10)\r\n",
      "Requirement already satisfied: urllib3<1.27,>=1.21.1 in /opt/conda/lib/python3.7/site-packages (from requests<3,>=2.21.0->tensorboard<2.7,>=2.6.0->tensorflow->canaro) (1.26.7)\r\n",
      "Requirement already satisfied: certifi>=2017.4.17 in /opt/conda/lib/python3.7/site-packages (from requests<3,>=2.21.0->tensorboard<2.7,>=2.6.0->tensorflow->canaro) (2021.10.8)\r\n",
      "Requirement already satisfied: chardet<5,>=3.0.2 in /opt/conda/lib/python3.7/site-packages (from requests<3,>=2.21.0->tensorboard<2.7,>=2.6.0->tensorflow->canaro) (4.0.0)\r\n",
      "Requirement already satisfied: zipp>=0.5 in /opt/conda/lib/python3.7/site-packages (from importlib-metadata>=4.4->markdown>=2.6.8->tensorboard<2.7,>=2.6.0->tensorflow->canaro) (3.6.0)\r\n",
      "Requirement already satisfied: pyasn1<0.5.0,>=0.4.6 in /opt/conda/lib/python3.7/site-packages (from pyasn1-modules>=0.2.1->google-auth<2,>=1.6.3->tensorboard<2.7,>=2.6.0->tensorflow->canaro) (0.4.8)\r\n",
      "Requirement already satisfied: oauthlib>=3.0.0 in /opt/conda/lib/python3.7/site-packages (from requests-oauthlib>=0.7.0->google-auth-oauthlib<0.5,>=0.4.1->tensorboard<2.7,>=2.6.0->tensorflow->canaro) (3.1.1)\r\n",
      "Installing collected packages: tensorflow-io-gcs-filesystem, tensorflow-estimator, mypy, libclang, keras, tensorflow, caer, canaro\r\n",
      "  Attempting uninstall: tensorflow-estimator\r\n",
      "    Found existing installation: tensorflow-estimator 2.6.0\r\n",
      "    Uninstalling tensorflow-estimator-2.6.0:\r\n",
      "      Successfully uninstalled tensorflow-estimator-2.6.0\r\n",
      "  Attempting uninstall: keras\r\n",
      "    Found existing installation: keras 2.6.0\r\n",
      "    Uninstalling keras-2.6.0:\r\n",
      "      Successfully uninstalled keras-2.6.0\r\n",
      "  Attempting uninstall: tensorflow\r\n",
      "    Found existing installation: tensorflow 2.6.2\r\n",
      "    Uninstalling tensorflow-2.6.2:\r\n",
      "      Successfully uninstalled tensorflow-2.6.2\r\n",
      "\u001b[31mERROR: pip's dependency resolver does not currently take into account all the packages that are installed. This behaviour is the source of the following dependency conflicts.\r\n",
      "explainable-ai-sdk 1.3.2 requires xai-image-widget, which is not installed.\r\n",
      "tfx-bsl 1.4.0 requires absl-py<0.13,>=0.9, but you have absl-py 0.15.0 which is incompatible.\r\n",
      "tfx-bsl 1.4.0 requires pyarrow<6,>=1, but you have pyarrow 6.0.0 which is incompatible.\r\n",
      "tensorflow-transform 1.4.0 requires absl-py<0.13,>=0.9, but you have absl-py 0.15.0 which is incompatible.\r\n",
      "tensorflow-transform 1.4.0 requires pyarrow<6,>=1, but you have pyarrow 6.0.0 which is incompatible.\r\n",
      "tensorflow-transform 1.4.0 requires tensorflow!=2.0.*,!=2.1.*,!=2.2.*,!=2.3.*,!=2.4.*,!=2.5.*,<2.7,>=1.15.2, but you have tensorflow 2.7.0 which is incompatible.\r\n",
      "tensorflow-io 0.21.0 requires tensorflow<2.7.0,>=2.6.0, but you have tensorflow 2.7.0 which is incompatible.\r\n",
      "tensorflow-io 0.21.0 requires tensorflow-io-gcs-filesystem==0.21.0, but you have tensorflow-io-gcs-filesystem 0.23.1 which is incompatible.\u001b[0m\r\n",
      "Successfully installed caer-2.0.8 canaro-1.1.0 keras-2.7.0 libclang-12.0.0 mypy-0.931 tensorflow-2.7.0 tensorflow-estimator-2.7.0 tensorflow-io-gcs-filesystem-0.23.1\r\n",
      "\u001b[33mWARNING: Running pip as the 'root' user can result in broken permissions and conflicting behaviour with the system package manager. It is recommended to use a virtual environment instead: https://pip.pypa.io/warnings/venv\u001b[0m\r\n",
      "Note: you may need to restart the kernel to use updated packages.\n"
     ]
    }
   ],
   "source": [
    "pip install caer canaro"
   ]
  },
  {
   "cell_type": "code",
   "execution_count": 2,
   "id": "ff07e21e",
   "metadata": {
    "execution": {
     "iopub.execute_input": "2022-01-26T18:58:59.726162Z",
     "iopub.status.busy": "2022-01-26T18:58:59.725291Z",
     "iopub.status.idle": "2022-01-26T18:59:03.501812Z",
     "shell.execute_reply": "2022-01-26T18:59:03.501335Z",
     "shell.execute_reply.started": "2022-01-26T08:29:56.930512Z"
    },
    "papermill": {
     "duration": 3.975518,
     "end_time": "2022-01-26T18:59:03.501940",
     "exception": false,
     "start_time": "2022-01-26T18:58:59.526422",
     "status": "completed"
    },
    "tags": []
   },
   "outputs": [],
   "source": [
    "import os\n",
    "import numpy as np\n",
    "import cv2 as cv\n",
    "import canaro\n",
    "import caer\n",
    "import gc"
   ]
  },
  {
   "cell_type": "code",
   "execution_count": 3,
   "id": "6f41929b",
   "metadata": {
    "execution": {
     "iopub.execute_input": "2022-01-26T18:59:03.890255Z",
     "iopub.status.busy": "2022-01-26T18:59:03.889388Z",
     "iopub.status.idle": "2022-01-26T18:59:03.891117Z",
     "shell.execute_reply": "2022-01-26T18:59:03.891571Z",
     "shell.execute_reply.started": "2022-01-26T08:30:09.879478Z"
    },
    "papermill": {
     "duration": 0.199991,
     "end_time": "2022-01-26T18:59:03.891712",
     "exception": false,
     "start_time": "2022-01-26T18:59:03.691721",
     "status": "completed"
    },
    "tags": []
   },
   "outputs": [],
   "source": [
    "IMG_SIZE = (80,80)\n",
    "channels = 1\n",
    "char_path = r'../input/the-simpsons-characters-dataset/simpsons_dataset'\n"
   ]
  },
  {
   "cell_type": "code",
   "execution_count": 4,
   "id": "df139cbb",
   "metadata": {
    "execution": {
     "iopub.execute_input": "2022-01-26T18:59:04.279167Z",
     "iopub.status.busy": "2022-01-26T18:59:04.278625Z",
     "iopub.status.idle": "2022-01-26T18:59:11.477598Z",
     "shell.execute_reply": "2022-01-26T18:59:11.478055Z",
     "shell.execute_reply.started": "2022-01-26T08:30:12.822043Z"
    },
    "papermill": {
     "duration": 7.397542,
     "end_time": "2022-01-26T18:59:11.478230",
     "exception": false,
     "start_time": "2022-01-26T18:59:04.080688",
     "status": "completed"
    },
    "tags": []
   },
   "outputs": [
    {
     "data": {
      "text/plain": [
       "[('homer_simpson', 2246),\n",
       " ('ned_flanders', 1454),\n",
       " ('moe_szyslak', 1452),\n",
       " ('lisa_simpson', 1354),\n",
       " ('bart_simpson', 1342),\n",
       " ('marge_simpson', 1291),\n",
       " ('krusty_the_clown', 1206),\n",
       " ('principal_skinner', 1194),\n",
       " ('charles_montgomery_burns', 1193),\n",
       " ('milhouse_van_houten', 1079),\n",
       " ('chief_wiggum', 986),\n",
       " ('abraham_grampa_simpson', 913),\n",
       " ('sideshow_bob', 877),\n",
       " ('apu_nahasapeemapetilon', 623),\n",
       " ('kent_brockman', 498),\n",
       " ('comic_book_guy', 469),\n",
       " ('edna_krabappel', 457),\n",
       " ('nelson_muntz', 358),\n",
       " ('lenny_leonard', 310),\n",
       " ('mayor_quimby', 246),\n",
       " ('waylon_smithers', 181),\n",
       " ('maggie_simpson', 128),\n",
       " ('groundskeeper_willie', 121),\n",
       " ('barney_gumble', 106),\n",
       " ('selma_bouvier', 103),\n",
       " ('carl_carlson', 98),\n",
       " ('ralph_wiggum', 89),\n",
       " ('patty_bouvier', 72),\n",
       " ('martin_prince', 71),\n",
       " ('professor_john_frink', 65),\n",
       " ('snake_jailbird', 55),\n",
       " ('cletus_spuckler', 47),\n",
       " ('rainier_wolfcastle', 45),\n",
       " ('simpsons_dataset', 42),\n",
       " ('agnes_skinner', 42),\n",
       " ('sideshow_mel', 40),\n",
       " ('otto_mann', 32),\n",
       " ('fat_tony', 27),\n",
       " ('gil', 27),\n",
       " ('miss_hoover', 17),\n",
       " ('disco_stu', 8),\n",
       " ('troy_mcclure', 8),\n",
       " ('lionel_hutz', 3)]"
      ]
     },
     "execution_count": 4,
     "metadata": {},
     "output_type": "execute_result"
    }
   ],
   "source": [
    "char_dict = {}\n",
    "for char in os.listdir(char_path):\n",
    "    char_dict[char]=len(os.listdir(os.path.join(char_path, char)))\n",
    "                        \n",
    "# Sort in descending order\n",
    "char_dict = caer.sort_dict(char_dict, descending = True)\n",
    "char_dict "
   ]
  },
  {
   "cell_type": "code",
   "execution_count": 5,
   "id": "dabbb6c6",
   "metadata": {
    "execution": {
     "iopub.execute_input": "2022-01-26T18:59:11.866048Z",
     "iopub.status.busy": "2022-01-26T18:59:11.865335Z",
     "iopub.status.idle": "2022-01-26T18:59:11.868167Z",
     "shell.execute_reply": "2022-01-26T18:59:11.868597Z",
     "shell.execute_reply.started": "2022-01-26T08:30:20.182202Z"
    },
    "papermill": {
     "duration": 0.200663,
     "end_time": "2022-01-26T18:59:11.868731",
     "exception": false,
     "start_time": "2022-01-26T18:59:11.668068",
     "status": "completed"
    },
    "tags": []
   },
   "outputs": [
    {
     "data": {
      "text/plain": [
       "['homer_simpson',\n",
       " 'ned_flanders',\n",
       " 'moe_szyslak',\n",
       " 'lisa_simpson',\n",
       " 'bart_simpson',\n",
       " 'marge_simpson',\n",
       " 'krusty_the_clown',\n",
       " 'principal_skinner',\n",
       " 'charles_montgomery_burns',\n",
       " 'milhouse_van_houten']"
      ]
     },
     "execution_count": 5,
     "metadata": {},
     "output_type": "execute_result"
    }
   ],
   "source": [
    "characters = []\n",
    "count = 0\n",
    "for i in char_dict:\n",
    "    characters.append(i[0])\n",
    "    count +=1 \n",
    "    if count >= 10:\n",
    "        break\n",
    "characters\n",
    "    "
   ]
  },
  {
   "cell_type": "code",
   "execution_count": 6,
   "id": "d00ed2c9",
   "metadata": {
    "execution": {
     "iopub.execute_input": "2022-01-26T18:59:12.254098Z",
     "iopub.status.busy": "2022-01-26T18:59:12.252230Z",
     "iopub.status.idle": "2022-01-26T19:01:41.661324Z",
     "shell.execute_reply": "2022-01-26T19:01:41.662119Z",
     "shell.execute_reply.started": "2022-01-26T08:36:43.197981Z"
    },
    "papermill": {
     "duration": 149.604116,
     "end_time": "2022-01-26T19:01:41.662357",
     "exception": false,
     "start_time": "2022-01-26T18:59:12.058241",
     "status": "completed"
    },
    "tags": []
   },
   "outputs": [
    {
     "name": "stdout",
     "output_type": "stream",
     "text": [
      "[INFO] Could not find a file to load from. Generating the training data\n",
      "----------------------------------------------\n",
      "[INFO] At 1000 files\n",
      "[INFO] At 2000 files\n",
      "[INFO] 2246 files found in 2.674710750579834s\n",
      "[INFO] At 1000 files\n",
      "[INFO] 1454 files found in 0.7868742942810059s\n",
      "[INFO] At 1000 files\n",
      "[INFO] 1452 files found in 0.8283965587615967s\n",
      "[INFO] At 1000 files\n",
      "[INFO] 1354 files found in 0.6056580543518066s\n",
      "[INFO] At 1000 files\n",
      "[INFO] 1342 files found in 0.5663082599639893s\n",
      "[INFO] At 1000 files\n",
      "[INFO] 1291 files found in 0.4045751094818115s\n",
      "[INFO] At 1000 files\n",
      "[INFO] 1206 files found in 0.16517353057861328s\n",
      "[INFO] At 1000 files\n",
      "[INFO] 1194 files found in 0.14269709587097168s\n",
      "[INFO] At 1000 files\n",
      "[INFO] 1193 files found in 0.18286609649658203s\n",
      "[INFO] At 1000 files\n",
      "[INFO] 1079 files found in 0.004319190979003906s\n",
      "----------------------------------------------\n",
      "[INFO] 13811 files preprocessed! Took 2m 29s\n"
     ]
    }
   ],
   "source": [
    "# Create training data\n",
    "\n",
    "train = caer.preprocess_from_dir(char_path, characters, channels = channels, IMG_SIZE = IMG_SIZE, isShuffle = True)"
   ]
  },
  {
   "cell_type": "code",
   "execution_count": 7,
   "id": "a6b29480",
   "metadata": {
    "execution": {
     "iopub.execute_input": "2022-01-26T19:01:42.054961Z",
     "iopub.status.busy": "2022-01-26T19:01:42.053833Z",
     "iopub.status.idle": "2022-01-26T19:01:42.056877Z",
     "shell.execute_reply": "2022-01-26T19:01:42.057312Z",
     "shell.execute_reply.started": "2022-01-26T18:30:27.829933Z"
    },
    "papermill": {
     "duration": 0.203345,
     "end_time": "2022-01-26T19:01:42.057450",
     "exception": false,
     "start_time": "2022-01-26T19:01:41.854105",
     "status": "completed"
    },
    "tags": []
   },
   "outputs": [
    {
     "data": {
      "text/plain": [
       "13811"
      ]
     },
     "execution_count": 7,
     "metadata": {},
     "output_type": "execute_result"
    }
   ],
   "source": [
    "len(train)"
   ]
  },
  {
   "cell_type": "code",
   "execution_count": 8,
   "id": "e9189b06",
   "metadata": {
    "execution": {
     "iopub.execute_input": "2022-01-26T19:01:42.453993Z",
     "iopub.status.busy": "2022-01-26T19:01:42.450813Z",
     "iopub.status.idle": "2022-01-26T19:01:42.996807Z",
     "shell.execute_reply": "2022-01-26T19:01:42.997228Z",
     "shell.execute_reply.started": "2022-01-26T08:38:15.928209Z"
    },
    "papermill": {
     "duration": 0.74939,
     "end_time": "2022-01-26T19:01:42.997381",
     "exception": false,
     "start_time": "2022-01-26T19:01:42.247991",
     "status": "completed"
    },
    "tags": []
   },
   "outputs": [
    {
     "data": {
      "image/png": "[encoded data removed]",
      "text/plain": [
       "<Figure size 2160x2160 with 1 Axes>"
      ]
     },
     "metadata": {
      "needs_background": "light"
     },
     "output_type": "display_data"
    }
   ],
   "source": [
    "import matplotlib.pyplot as plt\n",
    "plt.figure(figsize=(30,30))\n",
    "plt.imshow(train[0][0], cmap = 'gray')\n",
    "plt.show()"
   ]
  },
  {
   "cell_type": "code",
   "execution_count": 9,
   "id": "49f3f522",
   "metadata": {
    "execution": {
     "iopub.execute_input": "2022-01-26T19:01:43.480059Z",
     "iopub.status.busy": "2022-01-26T19:01:43.472959Z",
     "iopub.status.idle": "2022-01-26T19:01:43.541516Z",
     "shell.execute_reply": "2022-01-26T19:01:43.542486Z",
     "shell.execute_reply.started": "2022-01-26T08:38:21.583537Z"
    },
    "papermill": {
     "duration": 0.346629,
     "end_time": "2022-01-26T19:01:43.542693",
     "exception": false,
     "start_time": "2022-01-26T19:01:43.196064",
     "status": "completed"
    },
    "tags": []
   },
   "outputs": [],
   "source": [
    "featureSet, labels = caer.sep_train(train, IMG_SIZE = IMG_SIZE)"
   ]
  },
  {
   "cell_type": "code",
   "execution_count": 10,
   "id": "ba9a2fbf",
   "metadata": {
    "execution": {
     "iopub.execute_input": "2022-01-26T19:01:44.093852Z",
     "iopub.status.busy": "2022-01-26T19:01:44.092678Z",
     "iopub.status.idle": "2022-01-26T19:01:44.213378Z",
     "shell.execute_reply": "2022-01-26T19:01:44.212878Z",
     "shell.execute_reply.started": "2022-01-26T08:38:25.592631Z"
    },
    "papermill": {
     "duration": 0.341867,
     "end_time": "2022-01-26T19:01:44.213512",
     "exception": false,
     "start_time": "2022-01-26T19:01:43.871645",
     "status": "completed"
    },
    "tags": []
   },
   "outputs": [],
   "source": [
    "from tensorflow.keras.utils import to_categorical\n",
    "# Normalize featureset ==> (0,1)\n",
    "featureSet = caer.normalize(featureSet)\n",
    "labels = to_categorical(labels, len(characters))\n",
    "\n",
    "\n"
   ]
  },
  {
   "cell_type": "code",
   "execution_count": 11,
   "id": "cd43f3c6",
   "metadata": {
    "execution": {
     "iopub.execute_input": "2022-01-26T19:01:44.620736Z",
     "iopub.status.busy": "2022-01-26T19:01:44.614730Z",
     "iopub.status.idle": "2022-01-26T19:01:44.934375Z",
     "shell.execute_reply": "2022-01-26T19:01:44.933717Z",
     "shell.execute_reply.started": "2022-01-26T08:38:29.415609Z"
    },
    "papermill": {
     "duration": 0.529772,
     "end_time": "2022-01-26T19:01:44.934515",
     "exception": false,
     "start_time": "2022-01-26T19:01:44.404743",
     "status": "completed"
    },
    "tags": []
   },
   "outputs": [],
   "source": [
    "x_train, x_validate, y_train, y_validate = caer.train_val_split(featureSet, labels, val_ratio = .2)"
   ]
  },
  {
   "cell_type": "code",
   "execution_count": 12,
   "id": "b316d18f",
   "metadata": {
    "execution": {
     "iopub.execute_input": "2022-01-26T19:01:45.521091Z",
     "iopub.status.busy": "2022-01-26T19:01:45.520545Z",
     "iopub.status.idle": "2022-01-26T19:01:45.526264Z",
     "shell.execute_reply": "2022-01-26T19:01:45.525798Z",
     "shell.execute_reply.started": "2022-01-26T08:38:32.544261Z"
    },
    "papermill": {
     "duration": 0.398679,
     "end_time": "2022-01-26T19:01:45.526391",
     "exception": false,
     "start_time": "2022-01-26T19:01:45.127712",
     "status": "completed"
    },
    "tags": []
   },
   "outputs": [
    {
     "data": {
      "text/plain": [
       "21"
      ]
     },
     "execution_count": 12,
     "metadata": {},
     "output_type": "execute_result"
    }
   ],
   "source": [
    "del train \n",
    "del featureSet\n",
    "del labels\n",
    "gc.collect()"
   ]
  },
  {
   "cell_type": "code",
   "execution_count": 13,
   "id": "07576c53",
   "metadata": {
    "execution": {
     "iopub.execute_input": "2022-01-26T19:01:45.918388Z",
     "iopub.status.busy": "2022-01-26T19:01:45.917323Z",
     "iopub.status.idle": "2022-01-26T19:01:45.918973Z",
     "shell.execute_reply": "2022-01-26T19:01:45.919449Z",
     "shell.execute_reply.started": "2022-01-26T08:58:52.179492Z"
    },
    "papermill": {
     "duration": 0.200887,
     "end_time": "2022-01-26T19:01:45.919600",
     "exception": false,
     "start_time": "2022-01-26T19:01:45.718713",
     "status": "completed"
    },
    "tags": []
   },
   "outputs": [],
   "source": [
    "BATCH_SIZE = 10\n",
    "EPOCHS = 10"
   ]
  },
  {
   "cell_type": "code",
   "execution_count": 14,
   "id": "1097add7",
   "metadata": {
    "execution": {
     "iopub.execute_input": "2022-01-26T19:01:46.317816Z",
     "iopub.status.busy": "2022-01-26T19:01:46.316896Z",
     "iopub.status.idle": "2022-01-26T19:01:46.318664Z",
     "shell.execute_reply": "2022-01-26T19:01:46.319131Z",
     "shell.execute_reply.started": "2022-01-26T08:58:55.616895Z"
    },
    "papermill": {
     "duration": 0.205512,
     "end_time": "2022-01-26T19:01:46.319301",
     "exception": false,
     "start_time": "2022-01-26T19:01:46.113789",
     "status": "completed"
    },
    "tags": []
   },
   "outputs": [],
   "source": [
    "# image data generator\n",
    "\n",
    "datagen = canaro.generators.imageDataGenerator()\n",
    "train_gen = datagen.flow(x_train, y_train, batch_size = BATCH_SIZE)"
   ]
  },
  {
   "cell_type": "code",
   "execution_count": 15,
   "id": "770e315a",
   "metadata": {
    "execution": {
     "iopub.execute_input": "2022-01-26T19:01:46.723935Z",
     "iopub.status.busy": "2022-01-26T19:01:46.723054Z",
     "iopub.status.idle": "2022-01-26T19:01:47.423817Z",
     "shell.execute_reply": "2022-01-26T19:01:47.424442Z",
     "shell.execute_reply.started": "2022-01-26T09:13:51.635180Z"
    },
    "papermill": {
     "duration": 0.910945,
     "end_time": "2022-01-26T19:01:47.424636",
     "exception": false,
     "start_time": "2022-01-26T19:01:46.513691",
     "status": "completed"
    },
    "tags": []
   },
   "outputs": [
    {
     "name": "stderr",
     "output_type": "stream",
     "text": [
      "/opt/conda/lib/python3.7/site-packages/keras/optimizer_v2/gradient_descent.py:102: UserWarning: The `lr` argument is deprecated, use `learning_rate` instead.\n",
      "  super(SGD, self).__init__(name, **kwargs)\n"
     ]
    }
   ],
   "source": [
    "# creating the model\n",
    "\n",
    "model = canaro.models.createSimpsonsModel(IMG_SIZE = IMG_SIZE, channels = channels, output_dim = len(characters),\n",
    "                                            loss = 'binary_crossentropy', decay = 1e-6, learning_rate = 0.001,\n",
    "                                            momentum = 0.9, nesterov = True)"
   ]
  },
  {
   "cell_type": "code",
   "execution_count": 16,
   "id": "dca979a0",
   "metadata": {
    "execution": {
     "iopub.execute_input": "2022-01-26T19:01:47.823934Z",
     "iopub.status.busy": "2022-01-26T19:01:47.823088Z",
     "iopub.status.idle": "2022-01-26T19:01:47.828359Z",
     "shell.execute_reply": "2022-01-26T19:01:47.829316Z",
     "shell.execute_reply.started": "2022-01-26T09:13:55.131543Z"
    },
    "papermill": {
     "duration": 0.210354,
     "end_time": "2022-01-26T19:01:47.829521",
     "exception": false,
     "start_time": "2022-01-26T19:01:47.619167",
     "status": "completed"
    },
    "tags": []
   },
   "outputs": [
    {
     "name": "stdout",
     "output_type": "stream",
     "text": [
      "Model: \"sequential_1\"\n",
      "_________________________________________________________________\n",
      " Layer (type)                Output Shape              Param #   \n",
      "=================================================================\n",
      " conv2d_6 (Conv2D)           (None, 80, 80, 32)        320       \n",
      "                                                                 \n",
      " conv2d_7 (Conv2D)           (None, 78, 78, 32)        9248      \n",
      "                                                                 \n",
      " max_pooling2d_3 (MaxPooling  (None, 39, 39, 32)       0         \n",
      " 2D)                                                             \n",
      "                                                                 \n",
      " dropout_4 (Dropout)         (None, 39, 39, 32)        0         \n",
      "                                                                 \n",
      " conv2d_8 (Conv2D)           (None, 39, 39, 64)        18496     \n",
      "                                                                 \n",
      " conv2d_9 (Conv2D)           (None, 37, 37, 64)        36928     \n",
      "                                                                 \n",
      " max_pooling2d_4 (MaxPooling  (None, 18, 18, 64)       0         \n",
      " 2D)                                                             \n",
      "                                                                 \n",
      " dropout_5 (Dropout)         (None, 18, 18, 64)        0         \n",
      "                                                                 \n",
      " conv2d_10 (Conv2D)          (None, 18, 18, 256)       147712    \n",
      "                                                                 \n",
      " conv2d_11 (Conv2D)          (None, 16, 16, 256)       590080    \n",
      "                                                                 \n",
      " max_pooling2d_5 (MaxPooling  (None, 8, 8, 256)        0         \n",
      " 2D)                                                             \n",
      "                                                                 \n",
      " dropout_6 (Dropout)         (None, 8, 8, 256)         0         \n",
      "                                                                 \n",
      " flatten_1 (Flatten)         (None, 16384)             0         \n",
      "                                                                 \n",
      " dropout_7 (Dropout)         (None, 16384)             0         \n",
      "                                                                 \n",
      " dense_1 (Dense)             (None, 1024)              16778240  \n",
      "                                                                 \n",
      " dense_2 (Dense)             (None, 10)                10250     \n",
      "                                                                 \n",
      "=================================================================\n",
      "Total params: 17,591,274\n",
      "Trainable params: 17,591,274\n",
      "Non-trainable params: 0\n",
      "_________________________________________________________________\n"
     ]
    }
   ],
   "source": [
    "model.summary()"
   ]
  },
  {
   "cell_type": "code",
   "execution_count": 17,
   "id": "7f3c75e1",
   "metadata": {
    "execution": {
     "iopub.execute_input": "2022-01-26T19:01:48.224743Z",
     "iopub.status.busy": "2022-01-26T19:01:48.223896Z",
     "iopub.status.idle": "2022-01-26T19:01:48.226038Z",
     "shell.execute_reply": "2022-01-26T19:01:48.226435Z",
     "shell.execute_reply.started": "2022-01-26T09:14:00.139927Z"
    },
    "papermill": {
     "duration": 0.201811,
     "end_time": "2022-01-26T19:01:48.226572",
     "exception": false,
     "start_time": "2022-01-26T19:01:48.024761",
     "status": "completed"
    },
    "tags": []
   },
   "outputs": [],
   "source": [
    "from tensorflow.keras.callbacks import LearningRateScheduler\n",
    "callback_list = [LearningRateScheduler(canaro.lr_schedule)]"
   ]
  },
  {
   "cell_type": "code",
   "execution_count": 18,
   "id": "db1081bf",
   "metadata": {
    "execution": {
     "iopub.execute_input": "2022-01-26T19:01:48.623928Z",
     "iopub.status.busy": "2022-01-26T19:01:48.623408Z",
     "iopub.status.idle": "2022-01-26T20:44:11.665886Z",
     "shell.execute_reply": "2022-01-26T20:44:11.665399Z",
     "shell.execute_reply.started": "2022-01-26T09:14:02.148280Z"
    },
    "papermill": {
     "duration": 6143.24735,
     "end_time": "2022-01-26T20:44:11.666026",
     "exception": false,
     "start_time": "2022-01-26T19:01:48.418676",
     "status": "completed"
    },
    "tags": []
   },
   "outputs": [
    {
     "name": "stdout",
     "output_type": "stream",
     "text": [
      "Epoch 1/10\n",
      "1104/1104 [==============================] - 605s 548ms/step - loss: 0.3303 - accuracy: 0.1557 - val_loss: 0.3298 - val_accuracy: 0.1516 - lr: 0.0100\n",
      "Epoch 2/10\n",
      "1104/1104 [==============================] - 587s 532ms/step - loss: 0.3233 - accuracy: 0.1650 - lr: 0.0100\n",
      "Epoch 3/10\n",
      "1104/1104 [==============================] - 592s 536ms/step - loss: 0.3115 - accuracy: 0.2107 - lr: 0.0100\n",
      "Epoch 4/10\n",
      "1104/1104 [==============================] - 596s 539ms/step - loss: 0.3007 - accuracy: 0.2650 - lr: 0.0100\n",
      "Epoch 5/10\n",
      "1104/1104 [==============================] - 598s 542ms/step - loss: 0.2945 - accuracy: 0.2885 - lr: 0.0100\n",
      "Epoch 6/10\n",
      "1104/1104 [==============================] - 603s 546ms/step - loss: 0.2871 - accuracy: 0.3215 - lr: 0.0100\n",
      "Epoch 7/10\n",
      "1104/1104 [==============================] - 609s 552ms/step - loss: 0.2745 - accuracy: 0.3571 - lr: 0.0100\n",
      "Epoch 8/10\n",
      "1104/1104 [==============================] - 601s 544ms/step - loss: 0.2645 - accuracy: 0.4007 - lr: 0.0100\n",
      "Epoch 9/10\n",
      "1104/1104 [==============================] - 594s 538ms/step - loss: 0.2543 - accuracy: 0.4296 - lr: 0.0100\n",
      "Epoch 10/10\n",
      "1104/1104 [==============================] - 595s 539ms/step - loss: 0.2444 - accuracy: 0.4528 - lr: 0.0100\n"
     ]
    }
   ],
   "source": [
    "training = model.fit(train_gen,\n",
    "                     steps_per_epoch = len(x_train)//BATCH_SIZE,\n",
    "                    epochs = EPOCHS,\n",
    "                    validation_data = (x_validate, y_validate),\n",
    "                    validation_steps= len(y_validate)//BATCH_SIZE,\n",
    "                    callbacks = callback_list)"
   ]
  },
  {
   "cell_type": "code",
   "execution_count": null,
   "id": "41ca42b2",
   "metadata": {
    "papermill": {
     "duration": 3.091458,
     "end_time": "2022-01-26T20:44:18.102488",
     "exception": false,
     "start_time": "2022-01-26T20:44:15.011030",
     "status": "completed"
    },
    "tags": []
   },
   "outputs": [],
   "source": []
  }
 ],
 "metadata": {
  "kernelspec": {
   "display_name": "Python 3",
   "language": "python",
   "name": "python3"
  },
  "language_info": {
   "codemirror_mode": {
    "name": "ipython",
    "version": 3
   },
   "file_extension": ".py",
   "mimetype": "text/x-python",
   "name": "python",
   "nbconvert_exporter": "python",
   "pygments_lexer": "ipython3",
   "version": "3.7.12"
  },
  "papermill": {
   "default_parameters": {},
   "duration": 6402.031946,
   "end_time": "2022-01-26T20:44:24.558503",
   "environment_variables": {},
   "exception": null,
   "input_path": "__notebook__.ipynb",
   "output_path": "__notebook__.ipynb",
   "parameters": {},
   "start_time": "2022-01-26T18:57:42.526557",
   "version": "2.3.3"
  }
 },
 "nbformat": 4,
 "nbformat_minor": 5
}
